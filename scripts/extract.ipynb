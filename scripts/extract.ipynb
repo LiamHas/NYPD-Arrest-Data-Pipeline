{
  "nbformat": 4,
  "nbformat_minor": 0,
  "metadata": {
    "colab": {
      "provenance": []
    },
    "kernelspec": {
      "name": "python3",
      "display_name": "Python 3"
    },
    "language_info": {
      "name": "python"
    }
  },
  "cells": [
    {
      "cell_type": "code",
      "source": [
        "!pip install azure-storage-blob\n",
        "!pip install pyarrow\n",
        "!pip install google-cloud-storage"
      ],
      "metadata": {
        "id": "jFb3jcPxOBGd",
        "colab": {
          "base_uri": "https://localhost:8080/"
        },
        "outputId": "6a346bbf-334c-4c96-ecf4-fa40581cf0f9"
      },
      "execution_count": 2,
      "outputs": [
        {
          "output_type": "stream",
          "name": "stdout",
          "text": [
            "Collecting azure-storage-blob\n",
            "  Downloading azure_storage_blob-12.19.1-py3-none-any.whl (394 kB)\n",
            "\u001b[2K     \u001b[90m━━━━━━━━━━━━━━━━━━━━━━━━━━━━━━━━━━━━━━━━\u001b[0m \u001b[32m394.5/394.5 kB\u001b[0m \u001b[31m5.3 MB/s\u001b[0m eta \u001b[36m0:00:00\u001b[0m\n",
            "\u001b[?25hCollecting azure-core<2.0.0,>=1.28.0 (from azure-storage-blob)\n",
            "  Downloading azure_core-1.30.1-py3-none-any.whl (193 kB)\n",
            "\u001b[2K     \u001b[90m━━━━━━━━━━━━━━━━━━━━━━━━━━━━━━━━━━━━━━━━\u001b[0m \u001b[32m193.4/193.4 kB\u001b[0m \u001b[31m7.7 MB/s\u001b[0m eta \u001b[36m0:00:00\u001b[0m\n",
            "\u001b[?25hRequirement already satisfied: cryptography>=2.1.4 in /usr/local/lib/python3.10/dist-packages (from azure-storage-blob) (42.0.5)\n",
            "Requirement already satisfied: typing-extensions>=4.3.0 in /usr/local/lib/python3.10/dist-packages (from azure-storage-blob) (4.11.0)\n",
            "Collecting isodate>=0.6.1 (from azure-storage-blob)\n",
            "  Downloading isodate-0.6.1-py2.py3-none-any.whl (41 kB)\n",
            "\u001b[2K     \u001b[90m━━━━━━━━━━━━━━━━━━━━━━━━━━━━━━━━━━━━━━━━\u001b[0m \u001b[32m41.7/41.7 kB\u001b[0m \u001b[31m4.0 MB/s\u001b[0m eta \u001b[36m0:00:00\u001b[0m\n",
            "\u001b[?25hRequirement already satisfied: requests>=2.21.0 in /usr/local/lib/python3.10/dist-packages (from azure-core<2.0.0,>=1.28.0->azure-storage-blob) (2.31.0)\n",
            "Requirement already satisfied: six>=1.11.0 in /usr/local/lib/python3.10/dist-packages (from azure-core<2.0.0,>=1.28.0->azure-storage-blob) (1.16.0)\n",
            "Requirement already satisfied: cffi>=1.12 in /usr/local/lib/python3.10/dist-packages (from cryptography>=2.1.4->azure-storage-blob) (1.16.0)\n",
            "Requirement already satisfied: pycparser in /usr/local/lib/python3.10/dist-packages (from cffi>=1.12->cryptography>=2.1.4->azure-storage-blob) (2.22)\n",
            "Requirement already satisfied: charset-normalizer<4,>=2 in /usr/local/lib/python3.10/dist-packages (from requests>=2.21.0->azure-core<2.0.0,>=1.28.0->azure-storage-blob) (3.3.2)\n",
            "Requirement already satisfied: idna<4,>=2.5 in /usr/local/lib/python3.10/dist-packages (from requests>=2.21.0->azure-core<2.0.0,>=1.28.0->azure-storage-blob) (3.7)\n",
            "Requirement already satisfied: urllib3<3,>=1.21.1 in /usr/local/lib/python3.10/dist-packages (from requests>=2.21.0->azure-core<2.0.0,>=1.28.0->azure-storage-blob) (2.0.7)\n",
            "Requirement already satisfied: certifi>=2017.4.17 in /usr/local/lib/python3.10/dist-packages (from requests>=2.21.0->azure-core<2.0.0,>=1.28.0->azure-storage-blob) (2024.2.2)\n",
            "Installing collected packages: isodate, azure-core, azure-storage-blob\n",
            "Successfully installed azure-core-1.30.1 azure-storage-blob-12.19.1 isodate-0.6.1\n",
            "Requirement already satisfied: pyarrow in /usr/local/lib/python3.10/dist-packages (14.0.2)\n",
            "Requirement already satisfied: numpy>=1.16.6 in /usr/local/lib/python3.10/dist-packages (from pyarrow) (1.25.2)\n",
            "Requirement already satisfied: google-cloud-storage in /usr/local/lib/python3.10/dist-packages (2.8.0)\n",
            "Requirement already satisfied: google-auth<3.0dev,>=1.25.0 in /usr/local/lib/python3.10/dist-packages (from google-cloud-storage) (2.27.0)\n",
            "Requirement already satisfied: google-api-core!=2.0.*,!=2.1.*,!=2.2.*,!=2.3.0,<3.0.0dev,>=1.31.5 in /usr/local/lib/python3.10/dist-packages (from google-cloud-storage) (2.11.1)\n",
            "Requirement already satisfied: google-cloud-core<3.0dev,>=2.3.0 in /usr/local/lib/python3.10/dist-packages (from google-cloud-storage) (2.3.3)\n",
            "Requirement already satisfied: google-resumable-media>=2.3.2 in /usr/local/lib/python3.10/dist-packages (from google-cloud-storage) (2.7.0)\n",
            "Requirement already satisfied: requests<3.0.0dev,>=2.18.0 in /usr/local/lib/python3.10/dist-packages (from google-cloud-storage) (2.31.0)\n",
            "Requirement already satisfied: googleapis-common-protos<2.0.dev0,>=1.56.2 in /usr/local/lib/python3.10/dist-packages (from google-api-core!=2.0.*,!=2.1.*,!=2.2.*,!=2.3.0,<3.0.0dev,>=1.31.5->google-cloud-storage) (1.63.0)\n",
            "Requirement already satisfied: protobuf!=3.20.0,!=3.20.1,!=4.21.0,!=4.21.1,!=4.21.2,!=4.21.3,!=4.21.4,!=4.21.5,<5.0.0.dev0,>=3.19.5 in /usr/local/lib/python3.10/dist-packages (from google-api-core!=2.0.*,!=2.1.*,!=2.2.*,!=2.3.0,<3.0.0dev,>=1.31.5->google-cloud-storage) (3.20.3)\n",
            "Requirement already satisfied: cachetools<6.0,>=2.0.0 in /usr/local/lib/python3.10/dist-packages (from google-auth<3.0dev,>=1.25.0->google-cloud-storage) (5.3.3)\n",
            "Requirement already satisfied: pyasn1-modules>=0.2.1 in /usr/local/lib/python3.10/dist-packages (from google-auth<3.0dev,>=1.25.0->google-cloud-storage) (0.4.0)\n",
            "Requirement already satisfied: rsa<5,>=3.1.4 in /usr/local/lib/python3.10/dist-packages (from google-auth<3.0dev,>=1.25.0->google-cloud-storage) (4.9)\n",
            "Requirement already satisfied: google-crc32c<2.0dev,>=1.0 in /usr/local/lib/python3.10/dist-packages (from google-resumable-media>=2.3.2->google-cloud-storage) (1.5.0)\n",
            "Requirement already satisfied: charset-normalizer<4,>=2 in /usr/local/lib/python3.10/dist-packages (from requests<3.0.0dev,>=2.18.0->google-cloud-storage) (3.3.2)\n",
            "Requirement already satisfied: idna<4,>=2.5 in /usr/local/lib/python3.10/dist-packages (from requests<3.0.0dev,>=2.18.0->google-cloud-storage) (3.7)\n",
            "Requirement already satisfied: urllib3<3,>=1.21.1 in /usr/local/lib/python3.10/dist-packages (from requests<3.0.0dev,>=2.18.0->google-cloud-storage) (2.0.7)\n",
            "Requirement already satisfied: certifi>=2017.4.17 in /usr/local/lib/python3.10/dist-packages (from requests<3.0.0dev,>=2.18.0->google-cloud-storage) (2024.2.2)\n",
            "Requirement already satisfied: pyasn1<0.7.0,>=0.4.6 in /usr/local/lib/python3.10/dist-packages (from pyasn1-modules>=0.2.1->google-auth<3.0dev,>=1.25.0->google-cloud-storage) (0.6.0)\n"
          ]
        }
      ]
    },
    {
      "cell_type": "code",
      "execution_count": 3,
      "metadata": {
        "id": "X-DsXYJ0H2uk"
      },
      "outputs": [],
      "source": [
        "import pandas as pd\n",
        "import numpy as np\n",
        "import json\n",
        "import requests\n",
        "from azure.storage.blob import BlobServiceClient, BlobClient, ContainerClient\n",
        "from google.cloud import storage\n",
        "from io import StringIO"
      ]
    },
    {
      "cell_type": "markdown",
      "source": [
        "s1 -> Gather -> Decompresss -> Convert to Tabular -> Clean -> Reformat -> Consolidate -> Transform -> Load"
      ],
      "metadata": {
        "id": "v2iZwJsHJb9k"
      }
    },
    {
      "cell_type": "code",
      "source": [
        "URL = \"https://data.cityofnewyork.us/resource/uip8-fykc.csv?$limit=500000\"\n",
        "\n",
        "df_raw = pd.read_csv(URL, engine = 'pyarrow')#, na_values ='(null)')\n",
        "df_raw.replace('(null)', pd.NA, inplace=True)\n",
        "\n",
        "print(df_raw.head(10))\n",
        "print(df_raw.shape)"
      ],
      "metadata": {
        "colab": {
          "base_uri": "https://localhost:8080/"
        },
        "id": "vXU_Tzz-IoPt",
        "outputId": "7c975ef7-2fc8-4210-e4ca-a18cc5de9ee0"
      },
      "execution_count": 4,
      "outputs": [
        {
          "output_type": "stream",
          "name": "stdout",
          "text": [
            "   arrest_key arrest_date  pd_cd                         pd_desc  ky_cd  \\\n",
            "0   280255493  2024-01-10  397.0  ROBBERY,OPEN AREA UNCLASSIFIED  105.0   \n",
            "1   279805419  2024-01-02  157.0                          RAPE 1  104.0   \n",
            "2   279895750  2024-01-03  101.0                       ASSAULT 3  344.0   \n",
            "3   280809090  2024-01-19  511.0  CONTROLLED SUBSTANCE, POSSESSI  235.0   \n",
            "4   280357135  2024-01-11  109.0        ASSAULT 2,1,UNCLASSIFIED  106.0   \n",
            "5   281488967  2024-02-01  157.0                          RAPE 1  104.0   \n",
            "6   280769124  2024-01-19  464.0                        JOSTLING  230.0   \n",
            "7   281338081  2024-01-30  101.0                       ASSAULT 3  344.0   \n",
            "8   280961365  2024-01-23    NaN                            <NA>    NaN   \n",
            "9   281426006  2024-01-31  155.0                          RAPE 2  104.0   \n",
            "\n",
            "                      ofns_desc    law_code law_cat_cd arrest_boro  \\\n",
            "0                       ROBBERY  PL 1601001          F           M   \n",
            "1                          RAPE  PL 1303501          F           K   \n",
            "2  ASSAULT 3 & RELATED OFFENSES  PL 1200001          M           Q   \n",
            "3               DANGEROUS DRUGS  PL 2200300          M           B   \n",
            "4                FELONY ASSAULT  PL 1200502          F           K   \n",
            "5                          RAPE  PL 1303501          F           Q   \n",
            "6                      JOSTLING  PL 1652501          M           M   \n",
            "7  ASSAULT 3 & RELATED OFFENSES  PL 1200001          M           M   \n",
            "8                          <NA>        <NA>       <NA>           M   \n",
            "9                          RAPE  PL 1303001          F           B   \n",
            "\n",
            "   arrest_precinct  jurisdiction_code age_group perp_sex       perp_race  \\\n",
            "0               26                  0       <18        M           BLACK   \n",
            "1               77                  0     25-44        M  WHITE HISPANIC   \n",
            "2              106                  0       65+        F           WHITE   \n",
            "3               49                  0     45-64        M           BLACK   \n",
            "4               81                  2     25-44        F           BLACK   \n",
            "5              113                  0     25-44        M           BLACK   \n",
            "6                6                  0     25-44        M           BLACK   \n",
            "7               26                  0     25-44        M           BLACK   \n",
            "8                5                 97     25-44        M           BLACK   \n",
            "9               41                  0     18-24        M           BLACK   \n",
            "\n",
            "   x_coord_cd  y_coord_cd   latitude  longitude  \\\n",
            "0      996342      236149  40.814845 -73.956312   \n",
            "1     1003509      185018  40.674496 -73.930571   \n",
            "2     1026836      180689  40.662526 -73.846499   \n",
            "3     1027430      251104  40.855793 -73.843908   \n",
            "4     1002457      192292  40.694456 -73.934343   \n",
            "5     1046315      187088  40.679981 -73.776234   \n",
            "6      984134      207984  40.737547 -74.000415   \n",
            "7      996014      236126  40.814780 -73.957499   \n",
            "8      983903      200257  40.716337 -74.001251   \n",
            "9     1013037      236657  40.816206 -73.896001   \n",
            "\n",
            "                              geocoded_column  \n",
            "0                POINT (-73.956312 40.814845)  \n",
            "1  POINT (-73.9305713255961 40.6744956865259)  \n",
            "2                POINT (-73.846499 40.662526)  \n",
            "3                POINT (-73.843908 40.855793)  \n",
            "4                POINT (-73.934343 40.694456)  \n",
            "5  POINT (-73.7762339071953 40.6799807384666)  \n",
            "6                POINT (-74.000415 40.737547)  \n",
            "7                 POINT (-73.957499 40.81478)  \n",
            "8                POINT (-74.001251 40.716337)  \n",
            "9  POINT (-73.8960011932583 40.8162058439227)  \n",
            "(63621, 19)\n"
          ]
        }
      ]
    },
    {
      "cell_type": "code",
      "source": [
        "df_cleaned = df_raw.dropna(axis=0, how='any')\n",
        "print(df_cleaned.head(10))"
      ],
      "metadata": {
        "colab": {
          "base_uri": "https://localhost:8080/"
        },
        "id": "y57e9JTjLVty",
        "outputId": "7283b474-06ff-4b78-e832-58c1b37d74c9"
      },
      "execution_count": 5,
      "outputs": [
        {
          "output_type": "stream",
          "name": "stdout",
          "text": [
            "    arrest_key arrest_date  pd_cd                         pd_desc  ky_cd  \\\n",
            "0    280255493  2024-01-10  397.0  ROBBERY,OPEN AREA UNCLASSIFIED  105.0   \n",
            "1    279805419  2024-01-02  157.0                          RAPE 1  104.0   \n",
            "2    279895750  2024-01-03  101.0                       ASSAULT 3  344.0   \n",
            "3    280809090  2024-01-19  511.0  CONTROLLED SUBSTANCE, POSSESSI  235.0   \n",
            "4    280357135  2024-01-11  109.0        ASSAULT 2,1,UNCLASSIFIED  106.0   \n",
            "5    281488967  2024-02-01  157.0                          RAPE 1  104.0   \n",
            "6    280769124  2024-01-19  464.0                        JOSTLING  230.0   \n",
            "7    281338081  2024-01-30  101.0                       ASSAULT 3  344.0   \n",
            "9    281426006  2024-01-31  155.0                          RAPE 2  104.0   \n",
            "10   281606761  2024-02-03  105.0               STRANGULATION 1ST  106.0   \n",
            "\n",
            "                       ofns_desc    law_code law_cat_cd arrest_boro  \\\n",
            "0                        ROBBERY  PL 1601001          F           M   \n",
            "1                           RAPE  PL 1303501          F           K   \n",
            "2   ASSAULT 3 & RELATED OFFENSES  PL 1200001          M           Q   \n",
            "3                DANGEROUS DRUGS  PL 2200300          M           B   \n",
            "4                 FELONY ASSAULT  PL 1200502          F           K   \n",
            "5                           RAPE  PL 1303501          F           Q   \n",
            "6                       JOSTLING  PL 1652501          M           M   \n",
            "7   ASSAULT 3 & RELATED OFFENSES  PL 1200001          M           M   \n",
            "9                           RAPE  PL 1303001          F           B   \n",
            "10                FELONY ASSAULT  PL 1211200          F           Q   \n",
            "\n",
            "    arrest_precinct  jurisdiction_code age_group perp_sex  \\\n",
            "0                26                  0       <18        M   \n",
            "1                77                  0     25-44        M   \n",
            "2               106                  0       65+        F   \n",
            "3                49                  0     45-64        M   \n",
            "4                81                  2     25-44        F   \n",
            "5               113                  0     25-44        M   \n",
            "6                 6                  0     25-44        M   \n",
            "7                26                  0     25-44        M   \n",
            "9                41                  0     18-24        M   \n",
            "10              102                  0     45-64        M   \n",
            "\n",
            "                   perp_race  x_coord_cd  y_coord_cd   latitude  longitude  \\\n",
            "0                      BLACK      996342      236149  40.814845 -73.956312   \n",
            "1             WHITE HISPANIC     1003509      185018  40.674496 -73.930571   \n",
            "2                      WHITE     1026836      180689  40.662526 -73.846499   \n",
            "3                      BLACK     1027430      251104  40.855793 -73.843908   \n",
            "4                      BLACK     1002457      192292  40.694456 -73.934343   \n",
            "5                      BLACK     1046315      187088  40.679981 -73.776234   \n",
            "6                      BLACK      984134      207984  40.737547 -74.000415   \n",
            "7                      BLACK      996014      236126  40.814780 -73.957499   \n",
            "9                      BLACK     1013037      236657  40.816206 -73.896001   \n",
            "10  ASIAN / PACIFIC ISLANDER     1030262      191716  40.692773 -73.834076   \n",
            "\n",
            "                               geocoded_column  \n",
            "0                 POINT (-73.956312 40.814845)  \n",
            "1   POINT (-73.9305713255961 40.6744956865259)  \n",
            "2                 POINT (-73.846499 40.662526)  \n",
            "3                 POINT (-73.843908 40.855793)  \n",
            "4                 POINT (-73.934343 40.694456)  \n",
            "5   POINT (-73.7762339071953 40.6799807384666)  \n",
            "6                 POINT (-74.000415 40.737547)  \n",
            "7                  POINT (-73.957499 40.81478)  \n",
            "9   POINT (-73.8960011932583 40.8162058439227)  \n",
            "10                POINT (-73.834076 40.692773)  \n"
          ]
        }
      ]
    },
    {
      "cell_type": "code",
      "source": [
        "df_cleaned.info()"
      ],
      "metadata": {
        "colab": {
          "base_uri": "https://localhost:8080/"
        },
        "id": "jBMbzMlULeu1",
        "outputId": "6cfcb6e1-5455-4041-f388-09e2ea8cf13a"
      },
      "execution_count": 6,
      "outputs": [
        {
          "output_type": "stream",
          "name": "stdout",
          "text": [
            "<class 'pandas.core.frame.DataFrame'>\n",
            "Index: 63612 entries, 0 to 63620\n",
            "Data columns (total 19 columns):\n",
            " #   Column             Non-Null Count  Dtype         \n",
            "---  ------             --------------  -----         \n",
            " 0   arrest_key         63612 non-null  int64         \n",
            " 1   arrest_date        63612 non-null  datetime64[ns]\n",
            " 2   pd_cd              63612 non-null  float64       \n",
            " 3   pd_desc            63612 non-null  object        \n",
            " 4   ky_cd              63612 non-null  float64       \n",
            " 5   ofns_desc          63612 non-null  object        \n",
            " 6   law_code           63612 non-null  object        \n",
            " 7   law_cat_cd         63612 non-null  object        \n",
            " 8   arrest_boro        63612 non-null  object        \n",
            " 9   arrest_precinct    63612 non-null  int64         \n",
            " 10  jurisdiction_code  63612 non-null  int64         \n",
            " 11  age_group          63612 non-null  object        \n",
            " 12  perp_sex           63612 non-null  object        \n",
            " 13  perp_race          63612 non-null  object        \n",
            " 14  x_coord_cd         63612 non-null  int64         \n",
            " 15  y_coord_cd         63612 non-null  int64         \n",
            " 16  latitude           63612 non-null  float64       \n",
            " 17  longitude          63612 non-null  float64       \n",
            " 18  geocoded_column    63612 non-null  object        \n",
            "dtypes: datetime64[ns](1), float64(4), int64(5), object(9)\n",
            "memory usage: 9.7+ MB\n"
          ]
        }
      ]
    },
    {
      "cell_type": "markdown",
      "source": [
        "Use Azure blob for storage"
      ],
      "metadata": {
        "id": "mqeyu06YNZJK"
      }
    },
    {
      "cell_type": "code",
      "source": [
        "config_file_path = 'config.json'\n",
        "\n",
        "with open(config_file_path, 'r') as config_file:\n",
        "    config = json.load(config_file)\n",
        "\n",
        "CONNECTION_STRING_AZURE_STORAGE = config[\"connectionString\"]\n",
        "CONTAINER_AZURE = 'nypdarrest'\n",
        "blob_name = 'nypdarrest.csv'\n",
        "\n",
        "output = StringIO()\n",
        "df_cleaned.to_csv(output, index = False)\n",
        "data = output.getvalue()\n",
        "output.close()\n",
        "\n",
        "blob_service_client = BlobServiceClient.from_connection_string(CONNECTION_STRING_AZURE_STORAGE)\n",
        "\n",
        "blob_client = blob_service_client.get_blob_client(container=CONTAINER_AZURE, blob=blob_name)\n",
        "\n",
        "blob_client.upload_blob(data, overwrite=True)\n",
        "\n",
        "print(f\"Uploaded {blob_name} to Azure Blob Storage in container {CONTAINER_AZURE}.\")\n",
        "\n"
      ],
      "metadata": {
        "id": "beGvUjbDNcQ8",
        "colab": {
          "base_uri": "https://localhost:8080/"
        },
        "outputId": "fc3d3eaa-99d5-43f3-d200-32412ee7452e"
      },
      "execution_count": 8,
      "outputs": [
        {
          "output_type": "stream",
          "name": "stdout",
          "text": [
            "Uploaded nypdarrest.csv to Azure Blob Storage in container nypdarrest.\n"
          ]
        }
      ]
    },
    {
      "cell_type": "markdown",
      "source": [],
      "metadata": {
        "id": "P24pQpyMIk8g"
      }
    }
  ]
}